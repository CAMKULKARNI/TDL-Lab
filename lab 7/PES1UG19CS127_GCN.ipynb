{
  "nbformat": 4,
  "nbformat_minor": 0,
  "metadata": {
    "colab": {
      "name": "GNN_Implementation-PES1UG19CS464.ipynb",
      "provenance": []
    },
    "kernelspec": {
      "name": "python3",
      "display_name": "Python 3"
    },
    "language_info": {
      "name": "python"
    }
  },
  "cells": [
    {
      "cell_type": "code",
      "execution_count": 3,
      "metadata": {
        "colab": {
          "base_uri": "https://localhost:8080/"
        },
        "id": "u7KfObbBhCsI",
        "outputId": "ec7e82b6-22e2-43c9-edf3-9e483822f85c"
      },
      "outputs": [
        {
          "output_type": "stream",
          "name": "stdout",
          "text": [
            "\u001b[K     |████████████████████████████████| 435 kB 4.5 MB/s \n",
            "\u001b[K     |████████████████████████████████| 482 kB 40.5 MB/s \n",
            "\u001b[K     |████████████████████████████████| 462 kB 57.5 MB/s \n",
            "\u001b[K     |████████████████████████████████| 41 kB 541 kB/s \n",
            "\u001b[?25h  Building wheel for mplleaflet (setup.py) ... \u001b[?25l\u001b[?25hdone\n"
          ]
        }
      ],
      "source": [
        "import sys\n",
        "if 'google.colab' in sys.modules:\n",
        "  %pip install -q stellargraph[demos]==1.2.1"
      ]
    },
    {
      "cell_type": "code",
      "source": [
        "import pandas as pd\n",
        "import os"
      ],
      "metadata": {
        "id": "OkU66Fh7iKCw"
      },
      "execution_count": 2,
      "outputs": []
    },
    {
      "cell_type": "code",
      "source": [
        "import stellargraph as sg\n",
        "from stellargraph.mapper import FullBatchNodeGenerator\n",
        "from stellargraph.layer import GCN"
      ],
      "metadata": {
        "id": "L3ptCp6eiOk1"
      },
      "execution_count": 4,
      "outputs": []
    },
    {
      "cell_type": "code",
      "source": [
        "from tensorflow.keras import layers, optimizers, losses, metrics, Model\n",
        "from sklearn import  preprocessing, model_selection\n",
        "from IPython.display import display, HTML\n",
        "import matplotlib.pyplot as plt"
      ],
      "metadata": {
        "id": "nF77bwP7ighk"
      },
      "execution_count": 6,
      "outputs": []
    },
    {
      "cell_type": "code",
      "source": [
        "#Import the Cora dataset\n",
        "dataset = sg.datasets.Cora()\n",
        "display(HTML(dataset.description))\n",
        "G , node_subjects = dataset.load()"
      ],
      "metadata": {
        "colab": {
          "base_uri": "https://localhost:8080/",
          "height": 52
        },
        "id": "HEHmYCCGjBXW",
        "outputId": "0abcbee5-e4a2-477c-9314-4e65cb1bca2a"
      },
      "execution_count": 7,
      "outputs": [
        {
          "output_type": "display_data",
          "data": {
            "text/plain": [
              "<IPython.core.display.HTML object>"
            ],
            "text/html": [
              "The Cora dataset consists of 2708 scientific publications classified into one of seven classes. The citation network consists of 5429 links. Each publication in the dataset is described by a 0/1-valued word vector indicating the absence/presence of the corresponding word from the dictionary. The dictionary consists of 1433 unique words."
            ]
          },
          "metadata": {}
        }
      ]
    },
    {
      "cell_type": "code",
      "source": [
        "print(G.info())"
      ],
      "metadata": {
        "colab": {
          "base_uri": "https://localhost:8080/"
        },
        "id": "YbMkZGlqjc6a",
        "outputId": "437bf474-71a5-4efc-a190-da9268b2959d"
      },
      "execution_count": 8,
      "outputs": [
        {
          "output_type": "stream",
          "name": "stdout",
          "text": [
            "StellarGraph: Undirected multigraph\n",
            " Nodes: 2708, Edges: 5429\n",
            "\n",
            " Node types:\n",
            "  paper: [2708]\n",
            "    Features: float32 vector, length 1433\n",
            "    Edge types: paper-cites->paper\n",
            "\n",
            " Edge types:\n",
            "    paper-cites->paper: [5429]\n",
            "        Weights: all 1 (default)\n",
            "        Features: none\n"
          ]
        }
      ]
    },
    {
      "cell_type": "code",
      "source": [
        "#Number of categories in the graph\n",
        "node_subjects.value_counts().to_frame()"
      ],
      "metadata": {
        "colab": {
          "base_uri": "https://localhost:8080/",
          "height": 269
        },
        "id": "L4o3--qLjyf1",
        "outputId": "5606abea-df4d-4f33-bfd1-050086fbc7f1"
      },
      "execution_count": 10,
      "outputs": [
        {
          "output_type": "execute_result",
          "data": {
            "text/plain": [
              "                        subject\n",
              "Neural_Networks             818\n",
              "Probabilistic_Methods       426\n",
              "Genetic_Algorithms          418\n",
              "Theory                      351\n",
              "Case_Based                  298\n",
              "Reinforcement_Learning      217\n",
              "Rule_Learning               180"
            ],
            "text/html": [
              "\n",
              "  <div id=\"df-edcda442-68f5-401d-bb7c-8b8fcc94b57d\">\n",
              "    <div class=\"colab-df-container\">\n",
              "      <div>\n",
              "<style scoped>\n",
              "    .dataframe tbody tr th:only-of-type {\n",
              "        vertical-align: middle;\n",
              "    }\n",
              "\n",
              "    .dataframe tbody tr th {\n",
              "        vertical-align: top;\n",
              "    }\n",
              "\n",
              "    .dataframe thead th {\n",
              "        text-align: right;\n",
              "    }\n",
              "</style>\n",
              "<table border=\"1\" class=\"dataframe\">\n",
              "  <thead>\n",
              "    <tr style=\"text-align: right;\">\n",
              "      <th></th>\n",
              "      <th>subject</th>\n",
              "    </tr>\n",
              "  </thead>\n",
              "  <tbody>\n",
              "    <tr>\n",
              "      <th>Neural_Networks</th>\n",
              "      <td>818</td>\n",
              "    </tr>\n",
              "    <tr>\n",
              "      <th>Probabilistic_Methods</th>\n",
              "      <td>426</td>\n",
              "    </tr>\n",
              "    <tr>\n",
              "      <th>Genetic_Algorithms</th>\n",
              "      <td>418</td>\n",
              "    </tr>\n",
              "    <tr>\n",
              "      <th>Theory</th>\n",
              "      <td>351</td>\n",
              "    </tr>\n",
              "    <tr>\n",
              "      <th>Case_Based</th>\n",
              "      <td>298</td>\n",
              "    </tr>\n",
              "    <tr>\n",
              "      <th>Reinforcement_Learning</th>\n",
              "      <td>217</td>\n",
              "    </tr>\n",
              "    <tr>\n",
              "      <th>Rule_Learning</th>\n",
              "      <td>180</td>\n",
              "    </tr>\n",
              "  </tbody>\n",
              "</table>\n",
              "</div>\n",
              "      <button class=\"colab-df-convert\" onclick=\"convertToInteractive('df-edcda442-68f5-401d-bb7c-8b8fcc94b57d')\"\n",
              "              title=\"Convert this dataframe to an interactive table.\"\n",
              "              style=\"display:none;\">\n",
              "        \n",
              "  <svg xmlns=\"http://www.w3.org/2000/svg\" height=\"24px\"viewBox=\"0 0 24 24\"\n",
              "       width=\"24px\">\n",
              "    <path d=\"M0 0h24v24H0V0z\" fill=\"none\"/>\n",
              "    <path d=\"M18.56 5.44l.94 2.06.94-2.06 2.06-.94-2.06-.94-.94-2.06-.94 2.06-2.06.94zm-11 1L8.5 8.5l.94-2.06 2.06-.94-2.06-.94L8.5 2.5l-.94 2.06-2.06.94zm10 10l.94 2.06.94-2.06 2.06-.94-2.06-.94-.94-2.06-.94 2.06-2.06.94z\"/><path d=\"M17.41 7.96l-1.37-1.37c-.4-.4-.92-.59-1.43-.59-.52 0-1.04.2-1.43.59L10.3 9.45l-7.72 7.72c-.78.78-.78 2.05 0 2.83L4 21.41c.39.39.9.59 1.41.59.51 0 1.02-.2 1.41-.59l7.78-7.78 2.81-2.81c.8-.78.8-2.07 0-2.86zM5.41 20L4 18.59l7.72-7.72 1.47 1.35L5.41 20z\"/>\n",
              "  </svg>\n",
              "      </button>\n",
              "      \n",
              "  <style>\n",
              "    .colab-df-container {\n",
              "      display:flex;\n",
              "      flex-wrap:wrap;\n",
              "      gap: 12px;\n",
              "    }\n",
              "\n",
              "    .colab-df-convert {\n",
              "      background-color: #E8F0FE;\n",
              "      border: none;\n",
              "      border-radius: 50%;\n",
              "      cursor: pointer;\n",
              "      display: none;\n",
              "      fill: #1967D2;\n",
              "      height: 32px;\n",
              "      padding: 0 0 0 0;\n",
              "      width: 32px;\n",
              "    }\n",
              "\n",
              "    .colab-df-convert:hover {\n",
              "      background-color: #E2EBFA;\n",
              "      box-shadow: 0px 1px 2px rgba(60, 64, 67, 0.3), 0px 1px 3px 1px rgba(60, 64, 67, 0.15);\n",
              "      fill: #174EA6;\n",
              "    }\n",
              "\n",
              "    [theme=dark] .colab-df-convert {\n",
              "      background-color: #3B4455;\n",
              "      fill: #D2E3FC;\n",
              "    }\n",
              "\n",
              "    [theme=dark] .colab-df-convert:hover {\n",
              "      background-color: #434B5C;\n",
              "      box-shadow: 0px 1px 3px 1px rgba(0, 0, 0, 0.15);\n",
              "      filter: drop-shadow(0px 1px 2px rgba(0, 0, 0, 0.3));\n",
              "      fill: #FFFFFF;\n",
              "    }\n",
              "  </style>\n",
              "\n",
              "      <script>\n",
              "        const buttonEl =\n",
              "          document.querySelector('#df-edcda442-68f5-401d-bb7c-8b8fcc94b57d button.colab-df-convert');\n",
              "        buttonEl.style.display =\n",
              "          google.colab.kernel.accessAllowed ? 'block' : 'none';\n",
              "\n",
              "        async function convertToInteractive(key) {\n",
              "          const element = document.querySelector('#df-edcda442-68f5-401d-bb7c-8b8fcc94b57d');\n",
              "          const dataTable =\n",
              "            await google.colab.kernel.invokeFunction('convertToInteractive',\n",
              "                                                     [key], {});\n",
              "          if (!dataTable) return;\n",
              "\n",
              "          const docLinkHtml = 'Like what you see? Visit the ' +\n",
              "            '<a target=\"_blank\" href=https://colab.research.google.com/notebooks/data_table.ipynb>data table notebook</a>'\n",
              "            + ' to learn more about interactive tables.';\n",
              "          element.innerHTML = '';\n",
              "          dataTable['output_type'] = 'display_data';\n",
              "          await google.colab.output.renderOutput(dataTable, element);\n",
              "          const docLink = document.createElement('div');\n",
              "          docLink.innerHTML = docLinkHtml;\n",
              "          element.appendChild(docLink);\n",
              "        }\n",
              "      </script>\n",
              "    </div>\n",
              "  </div>\n",
              "  "
            ]
          },
          "metadata": {},
          "execution_count": 10
        }
      ]
    },
    {
      "cell_type": "code",
      "source": [
        "train_subjects, test_subjects = model_selection.train_test_split(node_subjects, train_size = 140, test_size = None, stratify = node_subjects)\n",
        "val_subjects, test_subjects = model_selection.train_test_split(test_subjects, train_size = 500, test_size = None, stratify = test_subjects)"
      ],
      "metadata": {
        "id": "rgmlWOiwj-ET"
      },
      "execution_count": 11,
      "outputs": []
    },
    {
      "cell_type": "code",
      "source": [
        "train_subjects.value_counts().to_frame()"
      ],
      "metadata": {
        "colab": {
          "base_uri": "https://localhost:8080/",
          "height": 269
        },
        "id": "kkCHYmOIlpU6",
        "outputId": "baae34fa-ba63-49b4-a496-6f2a1a466de5"
      },
      "execution_count": 12,
      "outputs": [
        {
          "output_type": "execute_result",
          "data": {
            "text/plain": [
              "                        subject\n",
              "Neural_Networks              42\n",
              "Probabilistic_Methods        22\n",
              "Genetic_Algorithms           22\n",
              "Theory                       18\n",
              "Case_Based                   16\n",
              "Reinforcement_Learning       11\n",
              "Rule_Learning                 9"
            ],
            "text/html": [
              "\n",
              "  <div id=\"df-4b287d9c-a739-487c-b336-d060ab97d6da\">\n",
              "    <div class=\"colab-df-container\">\n",
              "      <div>\n",
              "<style scoped>\n",
              "    .dataframe tbody tr th:only-of-type {\n",
              "        vertical-align: middle;\n",
              "    }\n",
              "\n",
              "    .dataframe tbody tr th {\n",
              "        vertical-align: top;\n",
              "    }\n",
              "\n",
              "    .dataframe thead th {\n",
              "        text-align: right;\n",
              "    }\n",
              "</style>\n",
              "<table border=\"1\" class=\"dataframe\">\n",
              "  <thead>\n",
              "    <tr style=\"text-align: right;\">\n",
              "      <th></th>\n",
              "      <th>subject</th>\n",
              "    </tr>\n",
              "  </thead>\n",
              "  <tbody>\n",
              "    <tr>\n",
              "      <th>Neural_Networks</th>\n",
              "      <td>42</td>\n",
              "    </tr>\n",
              "    <tr>\n",
              "      <th>Probabilistic_Methods</th>\n",
              "      <td>22</td>\n",
              "    </tr>\n",
              "    <tr>\n",
              "      <th>Genetic_Algorithms</th>\n",
              "      <td>22</td>\n",
              "    </tr>\n",
              "    <tr>\n",
              "      <th>Theory</th>\n",
              "      <td>18</td>\n",
              "    </tr>\n",
              "    <tr>\n",
              "      <th>Case_Based</th>\n",
              "      <td>16</td>\n",
              "    </tr>\n",
              "    <tr>\n",
              "      <th>Reinforcement_Learning</th>\n",
              "      <td>11</td>\n",
              "    </tr>\n",
              "    <tr>\n",
              "      <th>Rule_Learning</th>\n",
              "      <td>9</td>\n",
              "    </tr>\n",
              "  </tbody>\n",
              "</table>\n",
              "</div>\n",
              "      <button class=\"colab-df-convert\" onclick=\"convertToInteractive('df-4b287d9c-a739-487c-b336-d060ab97d6da')\"\n",
              "              title=\"Convert this dataframe to an interactive table.\"\n",
              "              style=\"display:none;\">\n",
              "        \n",
              "  <svg xmlns=\"http://www.w3.org/2000/svg\" height=\"24px\"viewBox=\"0 0 24 24\"\n",
              "       width=\"24px\">\n",
              "    <path d=\"M0 0h24v24H0V0z\" fill=\"none\"/>\n",
              "    <path d=\"M18.56 5.44l.94 2.06.94-2.06 2.06-.94-2.06-.94-.94-2.06-.94 2.06-2.06.94zm-11 1L8.5 8.5l.94-2.06 2.06-.94-2.06-.94L8.5 2.5l-.94 2.06-2.06.94zm10 10l.94 2.06.94-2.06 2.06-.94-2.06-.94-.94-2.06-.94 2.06-2.06.94z\"/><path d=\"M17.41 7.96l-1.37-1.37c-.4-.4-.92-.59-1.43-.59-.52 0-1.04.2-1.43.59L10.3 9.45l-7.72 7.72c-.78.78-.78 2.05 0 2.83L4 21.41c.39.39.9.59 1.41.59.51 0 1.02-.2 1.41-.59l7.78-7.78 2.81-2.81c.8-.78.8-2.07 0-2.86zM5.41 20L4 18.59l7.72-7.72 1.47 1.35L5.41 20z\"/>\n",
              "  </svg>\n",
              "      </button>\n",
              "      \n",
              "  <style>\n",
              "    .colab-df-container {\n",
              "      display:flex;\n",
              "      flex-wrap:wrap;\n",
              "      gap: 12px;\n",
              "    }\n",
              "\n",
              "    .colab-df-convert {\n",
              "      background-color: #E8F0FE;\n",
              "      border: none;\n",
              "      border-radius: 50%;\n",
              "      cursor: pointer;\n",
              "      display: none;\n",
              "      fill: #1967D2;\n",
              "      height: 32px;\n",
              "      padding: 0 0 0 0;\n",
              "      width: 32px;\n",
              "    }\n",
              "\n",
              "    .colab-df-convert:hover {\n",
              "      background-color: #E2EBFA;\n",
              "      box-shadow: 0px 1px 2px rgba(60, 64, 67, 0.3), 0px 1px 3px 1px rgba(60, 64, 67, 0.15);\n",
              "      fill: #174EA6;\n",
              "    }\n",
              "\n",
              "    [theme=dark] .colab-df-convert {\n",
              "      background-color: #3B4455;\n",
              "      fill: #D2E3FC;\n",
              "    }\n",
              "\n",
              "    [theme=dark] .colab-df-convert:hover {\n",
              "      background-color: #434B5C;\n",
              "      box-shadow: 0px 1px 3px 1px rgba(0, 0, 0, 0.15);\n",
              "      filter: drop-shadow(0px 1px 2px rgba(0, 0, 0, 0.3));\n",
              "      fill: #FFFFFF;\n",
              "    }\n",
              "  </style>\n",
              "\n",
              "      <script>\n",
              "        const buttonEl =\n",
              "          document.querySelector('#df-4b287d9c-a739-487c-b336-d060ab97d6da button.colab-df-convert');\n",
              "        buttonEl.style.display =\n",
              "          google.colab.kernel.accessAllowed ? 'block' : 'none';\n",
              "\n",
              "        async function convertToInteractive(key) {\n",
              "          const element = document.querySelector('#df-4b287d9c-a739-487c-b336-d060ab97d6da');\n",
              "          const dataTable =\n",
              "            await google.colab.kernel.invokeFunction('convertToInteractive',\n",
              "                                                     [key], {});\n",
              "          if (!dataTable) return;\n",
              "\n",
              "          const docLinkHtml = 'Like what you see? Visit the ' +\n",
              "            '<a target=\"_blank\" href=https://colab.research.google.com/notebooks/data_table.ipynb>data table notebook</a>'\n",
              "            + ' to learn more about interactive tables.';\n",
              "          element.innerHTML = '';\n",
              "          dataTable['output_type'] = 'display_data';\n",
              "          await google.colab.output.renderOutput(dataTable, element);\n",
              "          const docLink = document.createElement('div');\n",
              "          docLink.innerHTML = docLinkHtml;\n",
              "          element.appendChild(docLink);\n",
              "        }\n",
              "      </script>\n",
              "    </div>\n",
              "  </div>\n",
              "  "
            ]
          },
          "metadata": {},
          "execution_count": 12
        }
      ]
    },
    {
      "cell_type": "code",
      "source": [
        "target_encoding = preprocessing.LabelBinarizer()"
      ],
      "metadata": {
        "id": "5QG1afUqlxk2"
      },
      "execution_count": 13,
      "outputs": []
    },
    {
      "cell_type": "code",
      "source": [
        "#Converting data to vector form to pass to GCN\n",
        "train_targets = target_encoding.fit_transform(train_subjects)\n",
        "val_targets = target_encoding.transform(val_subjects)\n",
        "test_targets = target_encoding.transform(test_subjects)"
      ],
      "metadata": {
        "id": "q0FUe-DBmKPS"
      },
      "execution_count": 14,
      "outputs": []
    },
    {
      "cell_type": "code",
      "source": [
        "generator = FullBatchNodeGenerator(G, method = \"gcn\")"
      ],
      "metadata": {
        "colab": {
          "base_uri": "https://localhost:8080/"
        },
        "id": "LbbM1x21mlsL",
        "outputId": "5f053d5d-b686-4f25-fd73-8b21c498f012"
      },
      "execution_count": 15,
      "outputs": [
        {
          "output_type": "stream",
          "name": "stdout",
          "text": [
            "Using GCN (local pooling) filters...\n"
          ]
        }
      ]
    },
    {
      "cell_type": "code",
      "source": [
        "train_gen = generator.flow(train_subjects.index, train_targets)"
      ],
      "metadata": {
        "id": "UN4PY5hbnDt9"
      },
      "execution_count": 16,
      "outputs": []
    },
    {
      "cell_type": "code",
      "source": [
        "gcn = GCN(layer_sizes=[16, 16], activations=[\"relu\", \"relu\"], generator=generator, dropout=0.5)"
      ],
      "metadata": {
        "id": "CAiMNYm-nVbz"
      },
      "execution_count": 19,
      "outputs": []
    },
    {
      "cell_type": "code",
      "source": [
        "x_inp, x_out = gcn.in_out_tensors()\n",
        "x_out"
      ],
      "metadata": {
        "colab": {
          "base_uri": "https://localhost:8080/"
        },
        "id": "RU6mdagAnv3x",
        "outputId": "7ec26246-fed0-45e2-f491-48b1f2c0d47e"
      },
      "execution_count": 20,
      "outputs": [
        {
          "output_type": "execute_result",
          "data": {
            "text/plain": [
              "<KerasTensor: shape=(1, None, 16) dtype=float32 (created by layer 'gather_indices')>"
            ]
          },
          "metadata": {},
          "execution_count": 20
        }
      ]
    },
    {
      "cell_type": "code",
      "source": [
        "predictions = layers.Dense(units = train_targets.shape[1], activation = \"softmax\")(x_out)"
      ],
      "metadata": {
        "id": "eaQLYLrBoM2e"
      },
      "execution_count": 25,
      "outputs": []
    },
    {
      "cell_type": "code",
      "source": [
        "model = Model(inputs = x_inp, outputs = predictions)\n",
        "model.compile(optimizer = optimizers.Adam(learning_rate = 0.01), loss = losses.categorical_crossentropy, metrics = [\"acc\"])"
      ],
      "metadata": {
        "id": "Wo5_rczSoppJ"
      },
      "execution_count": 27,
      "outputs": []
    },
    {
      "cell_type": "code",
      "source": [
        "val_gen = generator.flow(val_subjects.index, val_targets)"
      ],
      "metadata": {
        "id": "ZIKVJwuHpMAs"
      },
      "execution_count": 28,
      "outputs": []
    },
    {
      "cell_type": "code",
      "source": [
        "from tensorflow.keras.callbacks import EarlyStopping"
      ],
      "metadata": {
        "id": "KTcjGLxOpcV-"
      },
      "execution_count": 29,
      "outputs": []
    },
    {
      "cell_type": "code",
      "source": [
        "es_callback = EarlyStopping(monitor=\"val_acc\", patience = 50, restore_best_weights=True)"
      ],
      "metadata": {
        "id": "4c77_aUJptWH"
      },
      "execution_count": 30,
      "outputs": []
    },
    {
      "cell_type": "code",
      "source": [
        "history = model.fit(train_gen, epochs=200, validation_data = val_gen, verbose = 2, shuffle = False, callbacks=[es_callback])"
      ],
      "metadata": {
        "colab": {
          "base_uri": "https://localhost:8080/"
        },
        "id": "Rg3IKN2Qp-BS",
        "outputId": "d2e483ff-b960-4977-e9e5-ad09e67ec26a"
      },
      "execution_count": 34,
      "outputs": [
        {
          "output_type": "stream",
          "name": "stdout",
          "text": [
            "Epoch 1/200\n",
            "1/1 - 0s - loss: 0.0698 - acc: 0.9786 - val_loss: 0.7561 - val_acc: 0.8220 - 175ms/epoch - 175ms/step\n",
            "Epoch 2/200\n",
            "1/1 - 0s - loss: 0.0822 - acc: 0.9857 - val_loss: 0.7650 - val_acc: 0.8180 - 158ms/epoch - 158ms/step\n",
            "Epoch 3/200\n",
            "1/1 - 0s - loss: 0.0453 - acc: 1.0000 - val_loss: 0.7788 - val_acc: 0.8040 - 151ms/epoch - 151ms/step\n",
            "Epoch 4/200\n",
            "1/1 - 0s - loss: 0.0363 - acc: 0.9929 - val_loss: 0.8024 - val_acc: 0.8020 - 164ms/epoch - 164ms/step\n",
            "Epoch 5/200\n",
            "1/1 - 0s - loss: 0.0244 - acc: 1.0000 - val_loss: 0.8298 - val_acc: 0.8040 - 149ms/epoch - 149ms/step\n",
            "Epoch 6/200\n",
            "1/1 - 0s - loss: 0.0485 - acc: 0.9857 - val_loss: 0.8404 - val_acc: 0.8060 - 152ms/epoch - 152ms/step\n",
            "Epoch 7/200\n",
            "1/1 - 0s - loss: 0.0530 - acc: 0.9929 - val_loss: 0.8482 - val_acc: 0.8060 - 149ms/epoch - 149ms/step\n",
            "Epoch 8/200\n",
            "1/1 - 0s - loss: 0.0807 - acc: 0.9857 - val_loss: 0.8444 - val_acc: 0.8080 - 160ms/epoch - 160ms/step\n",
            "Epoch 9/200\n",
            "1/1 - 0s - loss: 0.0612 - acc: 0.9857 - val_loss: 0.8387 - val_acc: 0.8060 - 151ms/epoch - 151ms/step\n",
            "Epoch 10/200\n",
            "1/1 - 0s - loss: 0.0585 - acc: 0.9929 - val_loss: 0.8263 - val_acc: 0.8060 - 155ms/epoch - 155ms/step\n",
            "Epoch 11/200\n",
            "1/1 - 0s - loss: 0.0612 - acc: 0.9857 - val_loss: 0.8200 - val_acc: 0.8060 - 160ms/epoch - 160ms/step\n",
            "Epoch 12/200\n",
            "1/1 - 0s - loss: 0.0548 - acc: 0.9929 - val_loss: 0.8185 - val_acc: 0.8060 - 156ms/epoch - 156ms/step\n",
            "Epoch 13/200\n",
            "1/1 - 0s - loss: 0.0576 - acc: 0.9643 - val_loss: 0.8181 - val_acc: 0.8080 - 164ms/epoch - 164ms/step\n",
            "Epoch 14/200\n",
            "1/1 - 0s - loss: 0.0451 - acc: 0.9857 - val_loss: 0.8175 - val_acc: 0.8120 - 151ms/epoch - 151ms/step\n",
            "Epoch 15/200\n",
            "1/1 - 0s - loss: 0.0496 - acc: 0.9786 - val_loss: 0.8230 - val_acc: 0.8140 - 153ms/epoch - 153ms/step\n",
            "Epoch 16/200\n",
            "1/1 - 0s - loss: 0.0539 - acc: 0.9857 - val_loss: 0.8300 - val_acc: 0.8120 - 165ms/epoch - 165ms/step\n",
            "Epoch 17/200\n",
            "1/1 - 0s - loss: 0.0408 - acc: 0.9929 - val_loss: 0.8346 - val_acc: 0.8180 - 143ms/epoch - 143ms/step\n",
            "Epoch 18/200\n",
            "1/1 - 0s - loss: 0.0395 - acc: 0.9857 - val_loss: 0.8446 - val_acc: 0.8140 - 154ms/epoch - 154ms/step\n",
            "Epoch 19/200\n",
            "1/1 - 0s - loss: 0.0439 - acc: 0.9929 - val_loss: 0.8557 - val_acc: 0.8120 - 149ms/epoch - 149ms/step\n",
            "Epoch 20/200\n",
            "1/1 - 0s - loss: 0.0337 - acc: 0.9929 - val_loss: 0.8703 - val_acc: 0.8100 - 156ms/epoch - 156ms/step\n",
            "Epoch 21/200\n",
            "1/1 - 0s - loss: 0.0538 - acc: 0.9786 - val_loss: 0.8893 - val_acc: 0.8060 - 146ms/epoch - 146ms/step\n",
            "Epoch 22/200\n",
            "1/1 - 0s - loss: 0.0759 - acc: 0.9786 - val_loss: 0.9059 - val_acc: 0.8020 - 154ms/epoch - 154ms/step\n",
            "Epoch 23/200\n",
            "1/1 - 0s - loss: 0.0308 - acc: 1.0000 - val_loss: 0.9138 - val_acc: 0.7980 - 151ms/epoch - 151ms/step\n",
            "Epoch 24/200\n",
            "1/1 - 0s - loss: 0.0546 - acc: 0.9857 - val_loss: 0.9171 - val_acc: 0.7980 - 148ms/epoch - 148ms/step\n",
            "Epoch 25/200\n",
            "1/1 - 0s - loss: 0.0569 - acc: 0.9714 - val_loss: 0.9141 - val_acc: 0.7980 - 153ms/epoch - 153ms/step\n",
            "Epoch 26/200\n",
            "1/1 - 0s - loss: 0.0207 - acc: 0.9929 - val_loss: 0.9109 - val_acc: 0.7980 - 143ms/epoch - 143ms/step\n",
            "Epoch 27/200\n",
            "1/1 - 0s - loss: 0.0169 - acc: 1.0000 - val_loss: 0.9090 - val_acc: 0.8000 - 157ms/epoch - 157ms/step\n",
            "Epoch 28/200\n",
            "1/1 - 0s - loss: 0.0301 - acc: 0.9929 - val_loss: 0.9074 - val_acc: 0.8080 - 149ms/epoch - 149ms/step\n",
            "Epoch 29/200\n",
            "1/1 - 0s - loss: 0.0287 - acc: 0.9857 - val_loss: 0.9117 - val_acc: 0.8080 - 160ms/epoch - 160ms/step\n",
            "Epoch 30/200\n",
            "1/1 - 0s - loss: 0.0129 - acc: 1.0000 - val_loss: 0.9207 - val_acc: 0.8040 - 147ms/epoch - 147ms/step\n",
            "Epoch 31/200\n",
            "1/1 - 0s - loss: 0.0270 - acc: 0.9857 - val_loss: 0.9264 - val_acc: 0.8040 - 156ms/epoch - 156ms/step\n",
            "Epoch 32/200\n",
            "1/1 - 0s - loss: 0.0558 - acc: 0.9786 - val_loss: 0.9358 - val_acc: 0.8040 - 150ms/epoch - 150ms/step\n",
            "Epoch 33/200\n",
            "1/1 - 0s - loss: 0.0395 - acc: 0.9857 - val_loss: 0.9495 - val_acc: 0.8000 - 146ms/epoch - 146ms/step\n",
            "Epoch 34/200\n",
            "1/1 - 0s - loss: 0.0589 - acc: 0.9786 - val_loss: 0.9619 - val_acc: 0.8020 - 168ms/epoch - 168ms/step\n",
            "Epoch 35/200\n",
            "1/1 - 0s - loss: 0.0180 - acc: 0.9929 - val_loss: 0.9660 - val_acc: 0.8040 - 148ms/epoch - 148ms/step\n",
            "Epoch 36/200\n",
            "1/1 - 0s - loss: 0.0245 - acc: 0.9929 - val_loss: 0.9700 - val_acc: 0.8060 - 158ms/epoch - 158ms/step\n",
            "Epoch 37/200\n",
            "1/1 - 0s - loss: 0.0162 - acc: 1.0000 - val_loss: 0.9712 - val_acc: 0.8100 - 152ms/epoch - 152ms/step\n",
            "Epoch 38/200\n",
            "1/1 - 0s - loss: 0.0263 - acc: 1.0000 - val_loss: 0.9662 - val_acc: 0.8080 - 156ms/epoch - 156ms/step\n",
            "Epoch 39/200\n",
            "1/1 - 0s - loss: 0.0187 - acc: 0.9929 - val_loss: 0.9608 - val_acc: 0.8080 - 148ms/epoch - 148ms/step\n",
            "Epoch 40/200\n",
            "1/1 - 0s - loss: 0.0244 - acc: 1.0000 - val_loss: 0.9586 - val_acc: 0.8100 - 151ms/epoch - 151ms/step\n",
            "Epoch 41/200\n",
            "1/1 - 0s - loss: 0.0410 - acc: 0.9929 - val_loss: 0.9666 - val_acc: 0.8100 - 165ms/epoch - 165ms/step\n",
            "Epoch 42/200\n",
            "1/1 - 0s - loss: 0.0370 - acc: 0.9929 - val_loss: 0.9712 - val_acc: 0.8100 - 162ms/epoch - 162ms/step\n",
            "Epoch 43/200\n",
            "1/1 - 0s - loss: 0.0160 - acc: 1.0000 - val_loss: 0.9766 - val_acc: 0.8080 - 150ms/epoch - 150ms/step\n",
            "Epoch 44/200\n",
            "1/1 - 0s - loss: 0.0163 - acc: 1.0000 - val_loss: 0.9758 - val_acc: 0.8060 - 145ms/epoch - 145ms/step\n",
            "Epoch 45/200\n",
            "1/1 - 0s - loss: 0.0148 - acc: 1.0000 - val_loss: 0.9721 - val_acc: 0.8120 - 147ms/epoch - 147ms/step\n",
            "Epoch 46/200\n",
            "1/1 - 0s - loss: 0.0199 - acc: 1.0000 - val_loss: 0.9691 - val_acc: 0.8100 - 148ms/epoch - 148ms/step\n",
            "Epoch 47/200\n",
            "1/1 - 0s - loss: 0.0239 - acc: 0.9929 - val_loss: 0.9647 - val_acc: 0.8080 - 148ms/epoch - 148ms/step\n",
            "Epoch 48/200\n",
            "1/1 - 0s - loss: 0.0117 - acc: 1.0000 - val_loss: 0.9613 - val_acc: 0.8080 - 150ms/epoch - 150ms/step\n",
            "Epoch 49/200\n",
            "1/1 - 0s - loss: 0.0287 - acc: 0.9857 - val_loss: 0.9598 - val_acc: 0.8080 - 150ms/epoch - 150ms/step\n",
            "Epoch 50/200\n",
            "1/1 - 0s - loss: 0.0110 - acc: 1.0000 - val_loss: 0.9607 - val_acc: 0.8060 - 147ms/epoch - 147ms/step\n",
            "Epoch 51/200\n",
            "1/1 - 0s - loss: 0.0187 - acc: 1.0000 - val_loss: 0.9654 - val_acc: 0.8080 - 153ms/epoch - 153ms/step\n"
          ]
        }
      ]
    },
    {
      "cell_type": "code",
      "source": [
        "sg.utils.plot_history(history)"
      ],
      "metadata": {
        "colab": {
          "base_uri": "https://localhost:8080/",
          "height": 585
        },
        "id": "rXhFRyVhqV6I",
        "outputId": "57c1246c-2919-4cec-da36-e7f468f1bea8"
      },
      "execution_count": 33,
      "outputs": [
        {
          "output_type": "display_data",
          "data": {
            "text/plain": [
              "<Figure size 504x576 with 2 Axes>"
            ],
            "image/png": "[encoded data removed]"
          },
          "metadata": {
            "needs_background": "light"
          }
        }
      ]
    },
    {
      "cell_type": "code",
      "source": [
        "test_gen = generator.flow(test_subjects.index, test_targets)"
      ],
      "metadata": {
        "id": "P1zy7zquq0No"
      },
      "execution_count": 35,
      "outputs": []
    },
    {
      "cell_type": "code",
      "source": [
        "all_nodes = node_subjects.index\n",
        "all_gen = generator.flow(all_nodes)\n",
        "all_predictions = model.predict(all_gen)"
      ],
      "metadata": {
        "id": "SV872tj3rh3d"
      },
      "execution_count": 37,
      "outputs": []
    },
    {
      "cell_type": "code",
      "source": [
        "node_predictions = target_encoding.inverse_transform(all_predictions.squeeze())"
      ],
      "metadata": {
        "id": "jXy9Ktr9sI4f"
      },
      "execution_count": 38,
      "outputs": []
    },
    {
      "cell_type": "code",
      "source": [
        "df = pd.DataFrame({\"Predicted\":node_predictions, \"True\":node_subjects})\n",
        "df.head(20)"
      ],
      "metadata": {
        "colab": {
          "base_uri": "https://localhost:8080/",
          "height": 677
        },
        "id": "0A1_SzmksUvS",
        "outputId": "b42d3273-4f1e-4d8c-be35-d3f6d3a72f8b"
      },
      "execution_count": 39,
      "outputs": [
        {
          "output_type": "execute_result",
          "data": {
            "text/plain": [
              "                      Predicted                    True\n",
              "31336     Probabilistic_Methods         Neural_Networks\n",
              "1061127           Rule_Learning           Rule_Learning\n",
              "1106406  Reinforcement_Learning  Reinforcement_Learning\n",
              "13195    Reinforcement_Learning  Reinforcement_Learning\n",
              "37879     Probabilistic_Methods   Probabilistic_Methods\n",
              "1126012   Probabilistic_Methods   Probabilistic_Methods\n",
              "1107140  Reinforcement_Learning                  Theory\n",
              "1102850         Neural_Networks         Neural_Networks\n",
              "31349     Probabilistic_Methods         Neural_Networks\n",
              "1106418                  Theory                  Theory\n",
              "1123188   Probabilistic_Methods         Neural_Networks\n",
              "1128990  Reinforcement_Learning      Genetic_Algorithms\n",
              "109323    Probabilistic_Methods   Probabilistic_Methods\n",
              "217139               Case_Based              Case_Based\n",
              "31353           Neural_Networks         Neural_Networks\n",
              "32083           Neural_Networks         Neural_Networks\n",
              "1126029  Reinforcement_Learning  Reinforcement_Learning\n",
              "1118017         Neural_Networks         Neural_Networks\n",
              "49482           Neural_Networks         Neural_Networks\n",
              "753265                   Theory         Neural_Networks"
            ],
            "text/html": [
              "\n",
              "  <div id=\"df-6ec7d561-7f1a-4973-a003-8c5154810e76\">\n",
              "    <div class=\"colab-df-container\">\n",
              "      <div>\n",
              "<style scoped>\n",
              "    .dataframe tbody tr th:only-of-type {\n",
              "        vertical-align: middle;\n",
              "    }\n",
              "\n",
              "    .dataframe tbody tr th {\n",
              "        vertical-align: top;\n",
              "    }\n",
              "\n",
              "    .dataframe thead th {\n",
              "        text-align: right;\n",
              "    }\n",
              "</style>\n",
              "<table border=\"1\" class=\"dataframe\">\n",
              "  <thead>\n",
              "    <tr style=\"text-align: right;\">\n",
              "      <th></th>\n",
              "      <th>Predicted</th>\n",
              "      <th>True</th>\n",
              "    </tr>\n",
              "  </thead>\n",
              "  <tbody>\n",
              "    <tr>\n",
              "      <th>31336</th>\n",
              "      <td>Probabilistic_Methods</td>\n",
              "      <td>Neural_Networks</td>\n",
              "    </tr>\n",
              "    <tr>\n",
              "      <th>1061127</th>\n",
              "      <td>Rule_Learning</td>\n",
              "      <td>Rule_Learning</td>\n",
              "    </tr>\n",
              "    <tr>\n",
              "      <th>1106406</th>\n",
              "      <td>Reinforcement_Learning</td>\n",
              "      <td>Reinforcement_Learning</td>\n",
              "    </tr>\n",
              "    <tr>\n",
              "      <th>13195</th>\n",
              "      <td>Reinforcement_Learning</td>\n",
              "      <td>Reinforcement_Learning</td>\n",
              "    </tr>\n",
              "    <tr>\n",
              "      <th>37879</th>\n",
              "      <td>Probabilistic_Methods</td>\n",
              "      <td>Probabilistic_Methods</td>\n",
              "    </tr>\n",
              "    <tr>\n",
              "      <th>1126012</th>\n",
              "      <td>Probabilistic_Methods</td>\n",
              "      <td>Probabilistic_Methods</td>\n",
              "    </tr>\n",
              "    <tr>\n",
              "      <th>1107140</th>\n",
              "      <td>Reinforcement_Learning</td>\n",
              "      <td>Theory</td>\n",
              "    </tr>\n",
              "    <tr>\n",
              "      <th>1102850</th>\n",
              "      <td>Neural_Networks</td>\n",
              "      <td>Neural_Networks</td>\n",
              "    </tr>\n",
              "    <tr>\n",
              "      <th>31349</th>\n",
              "      <td>Probabilistic_Methods</td>\n",
              "      <td>Neural_Networks</td>\n",
              "    </tr>\n",
              "    <tr>\n",
              "      <th>1106418</th>\n",
              "      <td>Theory</td>\n",
              "      <td>Theory</td>\n",
              "    </tr>\n",
              "    <tr>\n",
              "      <th>1123188</th>\n",
              "      <td>Probabilistic_Methods</td>\n",
              "      <td>Neural_Networks</td>\n",
              "    </tr>\n",
              "    <tr>\n",
              "      <th>1128990</th>\n",
              "      <td>Reinforcement_Learning</td>\n",
              "      <td>Genetic_Algorithms</td>\n",
              "    </tr>\n",
              "    <tr>\n",
              "      <th>109323</th>\n",
              "      <td>Probabilistic_Methods</td>\n",
              "      <td>Probabilistic_Methods</td>\n",
              "    </tr>\n",
              "    <tr>\n",
              "      <th>217139</th>\n",
              "      <td>Case_Based</td>\n",
              "      <td>Case_Based</td>\n",
              "    </tr>\n",
              "    <tr>\n",
              "      <th>31353</th>\n",
              "      <td>Neural_Networks</td>\n",
              "      <td>Neural_Networks</td>\n",
              "    </tr>\n",
              "    <tr>\n",
              "      <th>32083</th>\n",
              "      <td>Neural_Networks</td>\n",
              "      <td>Neural_Networks</td>\n",
              "    </tr>\n",
              "    <tr>\n",
              "      <th>1126029</th>\n",
              "      <td>Reinforcement_Learning</td>\n",
              "      <td>Reinforcement_Learning</td>\n",
              "    </tr>\n",
              "    <tr>\n",
              "      <th>1118017</th>\n",
              "      <td>Neural_Networks</td>\n",
              "      <td>Neural_Networks</td>\n",
              "    </tr>\n",
              "    <tr>\n",
              "      <th>49482</th>\n",
              "      <td>Neural_Networks</td>\n",
              "      <td>Neural_Networks</td>\n",
              "    </tr>\n",
              "    <tr>\n",
              "      <th>753265</th>\n",
              "      <td>Theory</td>\n",
              "      <td>Neural_Networks</td>\n",
              "    </tr>\n",
              "  </tbody>\n",
              "</table>\n",
              "</div>\n",
              "      <button class=\"colab-df-convert\" onclick=\"convertToInteractive('df-6ec7d561-7f1a-4973-a003-8c5154810e76')\"\n",
              "              title=\"Convert this dataframe to an interactive table.\"\n",
              "              style=\"display:none;\">\n",
              "        \n",
              "  <svg xmlns=\"http://www.w3.org/2000/svg\" height=\"24px\"viewBox=\"0 0 24 24\"\n",
              "       width=\"24px\">\n",
              "    <path d=\"M0 0h24v24H0V0z\" fill=\"none\"/>\n",
              "    <path d=\"M18.56 5.44l.94 2.06.94-2.06 2.06-.94-2.06-.94-.94-2.06-.94 2.06-2.06.94zm-11 1L8.5 8.5l.94-2.06 2.06-.94-2.06-.94L8.5 2.5l-.94 2.06-2.06.94zm10 10l.94 2.06.94-2.06 2.06-.94-2.06-.94-.94-2.06-.94 2.06-2.06.94z\"/><path d=\"M17.41 7.96l-1.37-1.37c-.4-.4-.92-.59-1.43-.59-.52 0-1.04.2-1.43.59L10.3 9.45l-7.72 7.72c-.78.78-.78 2.05 0 2.83L4 21.41c.39.39.9.59 1.41.59.51 0 1.02-.2 1.41-.59l7.78-7.78 2.81-2.81c.8-.78.8-2.07 0-2.86zM5.41 20L4 18.59l7.72-7.72 1.47 1.35L5.41 20z\"/>\n",
              "  </svg>\n",
              "      </button>\n",
              "      \n",
              "  <style>\n",
              "    .colab-df-container {\n",
              "      display:flex;\n",
              "      flex-wrap:wrap;\n",
              "      gap: 12px;\n",
              "    }\n",
              "\n",
              "    .colab-df-convert {\n",
              "      background-color: #E8F0FE;\n",
              "      border: none;\n",
              "      border-radius: 50%;\n",
              "      cursor: pointer;\n",
              "      display: none;\n",
              "      fill: #1967D2;\n",
              "      height: 32px;\n",
              "      padding: 0 0 0 0;\n",
              "      width: 32px;\n",
              "    }\n",
              "\n",
              "    .colab-df-convert:hover {\n",
              "      background-color: #E2EBFA;\n",
              "      box-shadow: 0px 1px 2px rgba(60, 64, 67, 0.3), 0px 1px 3px 1px rgba(60, 64, 67, 0.15);\n",
              "      fill: #174EA6;\n",
              "    }\n",
              "\n",
              "    [theme=dark] .colab-df-convert {\n",
              "      background-color: #3B4455;\n",
              "      fill: #D2E3FC;\n",
              "    }\n",
              "\n",
              "    [theme=dark] .colab-df-convert:hover {\n",
              "      background-color: #434B5C;\n",
              "      box-shadow: 0px 1px 3px 1px rgba(0, 0, 0, 0.15);\n",
              "      filter: drop-shadow(0px 1px 2px rgba(0, 0, 0, 0.3));\n",
              "      fill: #FFFFFF;\n",
              "    }\n",
              "  </style>\n",
              "\n",
              "      <script>\n",
              "        const buttonEl =\n",
              "          document.querySelector('#df-6ec7d561-7f1a-4973-a003-8c5154810e76 button.colab-df-convert');\n",
              "        buttonEl.style.display =\n",
              "          google.colab.kernel.accessAllowed ? 'block' : 'none';\n",
              "\n",
              "        async function convertToInteractive(key) {\n",
              "          const element = document.querySelector('#df-6ec7d561-7f1a-4973-a003-8c5154810e76');\n",
              "          const dataTable =\n",
              "            await google.colab.kernel.invokeFunction('convertToInteractive',\n",
              "                                                     [key], {});\n",
              "          if (!dataTable) return;\n",
              "\n",
              "          const docLinkHtml = 'Like what you see? Visit the ' +\n",
              "            '<a target=\"_blank\" href=https://colab.research.google.com/notebooks/data_table.ipynb>data table notebook</a>'\n",
              "            + ' to learn more about interactive tables.';\n",
              "          element.innerHTML = '';\n",
              "          dataTable['output_type'] = 'display_data';\n",
              "          await google.colab.output.renderOutput(dataTable, element);\n",
              "          const docLink = document.createElement('div');\n",
              "          docLink.innerHTML = docLinkHtml;\n",
              "          element.appendChild(docLink);\n",
              "        }\n",
              "      </script>\n",
              "    </div>\n",
              "  </div>\n",
              "  "
            ]
          },
          "metadata": {},
          "execution_count": 39
        }
      ]
    },
    {
      "cell_type": "code",
      "source": [
        "embedding"
      ],
      "metadata": {
        "id": "DaaYr6nSs8lR"
      },
      "execution_count": null,
      "outputs": []
    }
  ]
}