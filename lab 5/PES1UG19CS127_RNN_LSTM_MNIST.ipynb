{
 "cells": [
  {
   "cell_type": "code",
   "execution_count": 1,
   "metadata": {},
   "outputs": [],
   "source": [
    "import pandas as pd\n",
    "import numpy as np\n",
    "import matplotlib.pyplot as plt\n",
    "from tensorflow.keras import preprocessing"
   ]
  },
  {
   "cell_type": "code",
   "execution_count": 2,
   "metadata": {},
   "outputs": [],
   "source": [
    "from keras.models import Sequential\n",
    "from keras.layers import Dense, Flatten, SimpleRNN, LSTM\n",
    "from keras.layers.embeddings import Embedding\n",
    "from tensorflow.keras.optimizers import SGD"
   ]
  },
  {
   "cell_type": "code",
   "execution_count": 3,
   "metadata": {},
   "outputs": [],
   "source": [
    "from keras.datasets import mnist\n",
    "from tensorflow.keras.utils import to_categorical\n",
    "from keras import Input\n",
    "from tensorflow .keras.optimizers import Adam"
   ]
  },
  {
   "cell_type": "code",
   "execution_count": 4,
   "metadata": {},
   "outputs": [],
   "source": [
    "(x_train2, y_train2), (x_test2, y_test2) = mnist.load_data()"
   ]
  },
  {
   "cell_type": "code",
   "execution_count": 5,
   "metadata": {},
   "outputs": [
    {
     "name": "stdout",
     "output_type": "stream",
     "text": [
      "X train dataset shape (60000, 28, 28)\n",
      "X test dataset shape (10000, 28, 28)\n",
      "Y train dataset shape (60000,)\n",
      "Y test dataset shape (10000,)\n"
     ]
    }
   ],
   "source": [
    "print(\"X train dataset shape\", x_train2.shape)\n",
    "print(\"X test dataset shape\", x_test2.shape)\n",
    "print(\"Y train dataset shape\", y_train2.shape)\n",
    "print(\"Y test dataset shape\", y_test2.shape)"
   ]
  },
  {
   "cell_type": "code",
   "execution_count": 6,
   "metadata": {},
   "outputs": [],
   "source": [
    "x_val2 = x_train2[:5000]\n",
    "x_train2 = x_train2[5000:]\n",
    "y_val2 = y_train2[:5000]\n",
    "y_train2 = y_train2[5000:]"
   ]
  },
  {
   "cell_type": "code",
   "execution_count": 7,
   "metadata": {},
   "outputs": [
    {
     "name": "stdout",
     "output_type": "stream",
     "text": [
      "X train dataset shape (55000, 28, 28)\n",
      "X test dataset shape (10000, 28, 28)\n",
      "X val dataset shape (5000, 28, 28)\n",
      "Y train dataset shape (55000,)\n",
      "Y test dataset shape (10000,)\n",
      "Y val dataset shape (5000,)\n"
     ]
    }
   ],
   "source": [
    "print(\"X train dataset shape\", x_train2.shape)\n",
    "print(\"X test dataset shape\", x_test2.shape)\n",
    "print(\"X val dataset shape\", x_val2.shape)\n",
    "print(\"Y train dataset shape\", y_train2.shape)\n",
    "print(\"Y test dataset shape\", y_test2.shape)\n",
    "print(\"Y val dataset shape\", y_val2.shape)"
   ]
  },
  {
   "cell_type": "code",
   "execution_count": 8,
   "metadata": {},
   "outputs": [],
   "source": [
    "x_train2 = x_train2.astype(\"float32\")\n",
    "x_test2 = x_test2.astype(\"float32\")\n",
    "x_val2 = x_val2.astype(\"float32\")\n",
    "x_train2, x_test2, x_val2 = x_train2 / 255.0, x_test2 / 255.0, x_val2 / 255.0"
   ]
  },
  {
   "cell_type": "code",
   "execution_count": 9,
   "metadata": {},
   "outputs": [],
   "source": [
    "y_train2 = to_categorical(y_train2,  10)\n",
    "y_val2 = to_categorical(y_val2,  10)\n",
    "y_test2 = to_categorical(y_test2,  10)"
   ]
  },
  {
   "cell_type": "code",
   "execution_count": 10,
   "metadata": {},
   "outputs": [
    {
     "name": "stdout",
     "output_type": "stream",
     "text": [
      "Model: \"sequential\"\n",
      "_________________________________________________________________\n",
      " Layer (type)                Output Shape              Param #   \n",
      "=================================================================\n",
      " simple_rnn (SimpleRNN)      (None, 100)               12900     \n",
      "                                                                 \n",
      " dense (Dense)               (None, 10)                1010      \n",
      "                                                                 \n",
      "=================================================================\n",
      "Total params: 13,910\n",
      "Trainable params: 13,910\n",
      "Non-trainable params: 0\n",
      "_________________________________________________________________\n"
     ]
    }
   ],
   "source": [
    "nn_model = Sequential()\n",
    "nn_model.add(SimpleRNN(100, activation='relu', input_shape=(28, 28)))\n",
    "nn_model.add(Dense(10, activation='sigmoid'))\n",
    "nn_model.compile(optimizer='Adam', loss='categorical_crossentropy', metrics=['accuracy'])\n",
    "nn_model.summary()"
   ]
  },
  {
   "cell_type": "code",
   "execution_count": 11,
   "metadata": {},
   "outputs": [
    {
     "name": "stdout",
     "output_type": "stream",
     "text": [
      "Epoch 1/10\n",
      "550/550 - 17s - loss: 0.5775 - accuracy: 0.8126 - val_loss: 0.2408 - val_accuracy: 0.9288 - 17s/epoch - 32ms/step\n",
      "Epoch 2/10\n",
      "550/550 - 14s - loss: 0.2348 - accuracy: 0.9301 - val_loss: 0.1866 - val_accuracy: 0.9444 - 14s/epoch - 26ms/step\n",
      "Epoch 3/10\n",
      "550/550 - 14s - loss: 0.1756 - accuracy: 0.9462 - val_loss: 0.1793 - val_accuracy: 0.9472 - 14s/epoch - 26ms/step\n",
      "Epoch 4/10\n",
      "550/550 - 14s - loss: 0.1454 - accuracy: 0.9565 - val_loss: 0.1275 - val_accuracy: 0.9648 - 14s/epoch - 26ms/step\n",
      "Epoch 5/10\n",
      "550/550 - 16s - loss: 0.1329 - accuracy: 0.9603 - val_loss: 0.1138 - val_accuracy: 0.9666 - 16s/epoch - 29ms/step\n",
      "Epoch 6/10\n",
      "550/550 - 15s - loss: 0.1202 - accuracy: 0.9643 - val_loss: 0.1198 - val_accuracy: 0.9640 - 15s/epoch - 27ms/step\n",
      "Epoch 7/10\n",
      "550/550 - 15s - loss: 0.1126 - accuracy: 0.9665 - val_loss: 0.1198 - val_accuracy: 0.9672 - 15s/epoch - 27ms/step\n",
      "Epoch 8/10\n",
      "550/550 - 15s - loss: 0.1071 - accuracy: 0.9681 - val_loss: 0.0875 - val_accuracy: 0.9756 - 15s/epoch - 27ms/step\n",
      "Epoch 9/10\n",
      "550/550 - 15s - loss: 0.1004 - accuracy: 0.9708 - val_loss: 0.0960 - val_accuracy: 0.9750 - 15s/epoch - 27ms/step\n",
      "Epoch 10/10\n",
      "550/550 - 16s - loss: 0.0958 - accuracy: 0.9720 - val_loss: 0.0872 - val_accuracy: 0.9760 - 16s/epoch - 29ms/step\n"
     ]
    }
   ],
   "source": [
    "training_hist = nn_model.fit(x_train2, y_train2, batch_size=100, epochs=10, verbose=2, validation_data=(x_val2, y_val2))"
   ]
  },
  {
   "cell_type": "code",
   "execution_count": 12,
   "metadata": {},
   "outputs": [
    {
     "data": {
      "text/plain": [
       "Text(0, 0.5, 'loss')"
      ]
     },
     "execution_count": 12,
     "metadata": {},
     "output_type": "execute_result"
    },
    {
     "data": {
      "image/png": "[encoded data removed]",
      "text/plain": [
       "<Figure size 432x288 with 1 Axes>"
      ]
     },
     "metadata": {
      "needs_background": "light"
     },
     "output_type": "display_data"
    }
   ],
   "source": [
    "plt.plot(training_hist.history['loss'])\n",
    "plt.plot(training_hist.history['val_loss'])\n",
    "plt.title(\"Training and Validation Loss\")\n",
    "plt.legend([\"Training\", \"validation\"], loc=\"upper right\")\n",
    "plt.xlabel('epoch')\n",
    "plt.ylabel('loss')"
   ]
  },
  {
   "cell_type": "code",
   "execution_count": 13,
   "metadata": {},
   "outputs": [
    {
     "data": {
      "text/plain": [
       "Text(0, 0.5, 'accuracy')"
      ]
     },
     "execution_count": 13,
     "metadata": {},
     "output_type": "execute_result"
    },
    {
     "data": {
      "image/png": "[encoded data removed]",
      "text/plain": [
       "<Figure size 432x288 with 1 Axes>"
      ]
     },
     "metadata": {
      "needs_background": "light"
     },
     "output_type": "display_data"
    }
   ],
   "source": [
    "plt.plot(training_hist.history['accuracy'])\n",
    "plt.plot(training_hist.history['val_accuracy'])\n",
    "plt.title(\"Training and Validation Accuracy\")\n",
    "plt.legend([\"Training\", \"validation\"], loc=\"upper right\")\n",
    "plt.xlabel('epoch')\n",
    "plt.ylabel('accuracy')"
   ]
  },
  {
   "cell_type": "code",
   "execution_count": 14,
   "metadata": {},
   "outputs": [
    {
     "name": "stdout",
     "output_type": "stream",
     "text": [
      "313/313 [==============================] - 4s 10ms/step - loss: 0.0912 - accuracy: 0.9723\n",
      "Loss :  0.09115688502788544\n",
      "Accuracy Score :  0.9722999930381775\n"
     ]
    }
   ],
   "source": [
    "loss_accuracy_score = nn_model.evaluate(x_test2, y_test2)\n",
    "print(\"Loss : \", loss_accuracy_score[0])\n",
    "print(\"Accuracy Score : \", loss_accuracy_score[1])"
   ]
  },
  {
   "cell_type": "code",
   "execution_count": 15,
   "metadata": {},
   "outputs": [
    {
     "name": "stdout",
     "output_type": "stream",
     "text": [
      "Model: \"sequential_1\"\n",
      "_________________________________________________________________\n",
      " Layer (type)                Output Shape              Param #   \n",
      "=================================================================\n",
      " lstm (LSTM)                 (None, 100)               51600     \n",
      "                                                                 \n",
      " dense_1 (Dense)             (None, 10)                1010      \n",
      "                                                                 \n",
      "=================================================================\n",
      "Total params: 52,610\n",
      "Trainable params: 52,610\n",
      "Non-trainable params: 0\n",
      "_________________________________________________________________\n"
     ]
    }
   ],
   "source": [
    "nn_model2 = Sequential()\n",
    "nn_model2.add(LSTM(100, activation='tanh', input_shape=(28, 28)))\n",
    "nn_model2.add(Dense(10, activation='sigmoid'))\n",
    "nn_model2.compile(optimizer='Adam', loss='categorical_crossentropy', metrics=['accuracy'])\n",
    "nn_model2.summary()"
   ]
  },
  {
   "cell_type": "code",
   "execution_count": 16,
   "metadata": {},
   "outputs": [
    {
     "name": "stdout",
     "output_type": "stream",
     "text": [
      "Epoch 1/10\n",
      "550/550 - 9s - loss: 0.5271 - accuracy: 0.8277 - val_loss: 0.1775 - val_accuracy: 0.9492 - 9s/epoch - 17ms/step\n",
      "Epoch 2/10\n",
      "550/550 - 6s - loss: 0.1572 - accuracy: 0.9529 - val_loss: 0.1108 - val_accuracy: 0.9680 - 6s/epoch - 11ms/step\n",
      "Epoch 3/10\n",
      "550/550 - 6s - loss: 0.1094 - accuracy: 0.9669 - val_loss: 0.0906 - val_accuracy: 0.9730 - 6s/epoch - 10ms/step\n",
      "Epoch 4/10\n",
      "550/550 - 6s - loss: 0.0845 - accuracy: 0.9742 - val_loss: 0.0703 - val_accuracy: 0.9798 - 6s/epoch - 10ms/step\n",
      "Epoch 5/10\n",
      "550/550 - 6s - loss: 0.0682 - accuracy: 0.9789 - val_loss: 0.0777 - val_accuracy: 0.9754 - 6s/epoch - 11ms/step\n",
      "Epoch 6/10\n",
      "550/550 - 5s - loss: 0.0557 - accuracy: 0.9827 - val_loss: 0.0557 - val_accuracy: 0.9828 - 5s/epoch - 10ms/step\n",
      "Epoch 7/10\n",
      "550/550 - 6s - loss: 0.0468 - accuracy: 0.9855 - val_loss: 0.0588 - val_accuracy: 0.9824 - 6s/epoch - 11ms/step\n",
      "Epoch 8/10\n",
      "550/550 - 5s - loss: 0.0435 - accuracy: 0.9865 - val_loss: 0.0577 - val_accuracy: 0.9834 - 5s/epoch - 10ms/step\n",
      "Epoch 9/10\n",
      "550/550 - 5s - loss: 0.0371 - accuracy: 0.9887 - val_loss: 0.0482 - val_accuracy: 0.9860 - 5s/epoch - 10ms/step\n",
      "Epoch 10/10\n",
      "550/550 - 5s - loss: 0.0316 - accuracy: 0.9906 - val_loss: 0.0601 - val_accuracy: 0.9814 - 5s/epoch - 10ms/step\n"
     ]
    }
   ],
   "source": [
    "training_hist2 = nn_model2.fit(x_train2, y_train2, batch_size=100, epochs=10, verbose=2, validation_data=(x_val2, y_val2))"
   ]
  },
  {
   "cell_type": "code",
   "execution_count": 17,
   "metadata": {},
   "outputs": [
    {
     "data": {
      "text/plain": [
       "Text(0, 0.5, 'loss')"
      ]
     },
     "execution_count": 17,
     "metadata": {},
     "output_type": "execute_result"
    },
    {
     "data": {
      "image/png": "[encoded data removed]",
      "text/plain": [
       "<Figure size 432x288 with 1 Axes>"
      ]
     },
     "metadata": {
      "needs_background": "light"
     },
     "output_type": "display_data"
    }
   ],
   "source": [
    "plt.plot(training_hist2.history['loss'])\n",
    "plt.plot(training_hist2.history['val_loss'])\n",
    "plt.title(\"Training and Validation Loss\")\n",
    "plt.legend([\"Training\", \"validation\"], loc=\"upper right\")\n",
    "plt.xlabel('epoch')\n",
    "plt.ylabel('loss')"
   ]
  },
  {
   "cell_type": "code",
   "execution_count": 18,
   "metadata": {},
   "outputs": [
    {
     "data": {
      "text/plain": [
       "Text(0, 0.5, 'accuracy')"
      ]
     },
     "execution_count": 18,
     "metadata": {},
     "output_type": "execute_result"
    },
    {
     "data": {
      "image/png": "[encoded data removed]",
      "text/plain": [
       "<Figure size 432x288 with 1 Axes>"
      ]
     },
     "metadata": {
      "needs_background": "light"
     },
     "output_type": "display_data"
    }
   ],
   "source": [
    "plt.plot(training_hist2.history['accuracy'])\n",
    "plt.plot(training_hist2.history['val_accuracy'])\n",
    "plt.title(\"Training and Validation Accuracy\")\n",
    "plt.legend([\"Training\", \"validation\"], loc=\"upper right\")\n",
    "plt.xlabel('epoch')\n",
    "plt.ylabel('accuracy')"
   ]
  },
  {
   "cell_type": "code",
   "execution_count": 19,
   "metadata": {},
   "outputs": [
    {
     "name": "stdout",
     "output_type": "stream",
     "text": [
      "313/313 [==============================] - 3s 8ms/step - loss: 0.0678 - accuracy: 0.9800\n",
      "Loss :  0.0677831768989563\n",
      "Accuracy Score :  0.9800000190734863\n"
     ]
    }
   ],
   "source": [
    "loss_accuracy_score2 = nn_model2.evaluate(x_test2, y_test2)\n",
    "print(\"Loss : \", loss_accuracy_score2[0])\n",
    "print(\"Accuracy Score : \", loss_accuracy_score2[1])"
   ]
  }
 ],
 "metadata": {
  "interpreter": {
   "hash": "cef9e06bb236b2a8629b07e87a04b187b952a0f661eff5533360a155783f0c33"
  },
  "kernelspec": {
   "display_name": "Python 3.8.8 ('base')",
   "language": "python",
   "name": "python3"
  },
  "language_info": {
   "codemirror_mode": {
    "name": "ipython",
    "version": 3
   },
   "file_extension": ".py",
   "mimetype": "text/x-python",
   "name": "python",
   "nbconvert_exporter": "python",
   "pygments_lexer": "ipython3",
   "version": "3.8.8"
  },
  "orig_nbformat": 4
 },
 "nbformat": 4,
 "nbformat_minor": 2
}
