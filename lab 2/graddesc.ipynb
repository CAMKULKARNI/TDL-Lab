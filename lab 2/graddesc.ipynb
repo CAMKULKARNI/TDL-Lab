{
  "cells": [
    {
      "cell_type": "code",
      "execution_count": 4,
      "metadata": {
        "id": "D-811ALm8WED"
      },
      "outputs": [],
      "source": [
        "import tensorflow as tf \n",
        "import numpy as np"
      ]
    },
    {
      "cell_type": "code",
      "execution_count": 5,
      "metadata": {
        "id": "s8tKlbN58taH"
      },
      "outputs": [],
      "source": [
        "i=3\n",
        "o=-i\n",
        "w=0.5\n",
        "i,o,w=[tf.convert_to_tensor(float(x)) for x in [i,o,w]]"
      ]
    },
    {
      "cell_type": "code",
      "execution_count": 6,
      "metadata": {
        "colab": {
          "base_uri": "https://localhost:8080/"
        },
        "id": "d2fzJD4o9mlq",
        "outputId": "43c85ed4-c0ff-42b6-ca2b-29e7c484e524"
      },
      "outputs": [
        {
          "name": "stdout",
          "output_type": "stream",
          "text": [
            "Loss(20.25) Weight(0.23000001907348633)\n",
            "Loss(13.616100311279297) Weight(0.008600026369094849)\n",
            "Loss(9.155465126037598) Weight(-0.1729479730129242)\n",
            "Loss(6.156135559082031) Weight(-0.3218173384666443)\n",
            "Loss(4.13938570022583) Weight(-0.44389021396636963)\n",
            "Loss(2.783322811126709) Weight(-0.5439899563789368)\n",
            "Loss(1.8715063333511353) Weight(-0.6260717511177063)\n",
            "Loss(1.2584009170532227) Weight(-0.6933788061141968)\n",
            "Loss(0.846149206161499) Weight(-0.7485706210136414)\n",
            "Loss(0.5689507126808167) Weight(-0.7938278913497925)\n",
            "Loss(0.3825626075267792) Weight(-0.8309388756752014)\n",
            "Loss(0.2572349011898041) Weight(-0.8613698482513428)\n",
            "Loss(0.17296487092971802) Weight(-0.8863232731819153)\n",
            "Loss(0.11630154401063919) Weight(-0.9067850708961487)\n",
            "Loss(0.07820117473602295) Weight(-0.9235637784004211)\n",
            "Loss(0.05258243530988693) Weight(-0.9373223185539246)\n",
            "Loss(0.03535644710063934) Weight(-0.9486042857170105)\n",
            "Loss(0.023773692548274994) Weight(-0.9578555226325989)\n",
            "Loss(0.01598539762198925) Weight(-0.9654415249824524)\n",
            "Loss(0.010748581029474735) Weight(-0.9716620445251465)\n",
            "Loss(0.007227357476949692) Weight(-0.9767628908157349)\n",
            "Loss(0.004859652370214462) Weight(-0.9809455871582031)\n",
            "Loss(0.0032676358241587877) Weight(-0.9843753576278687)\n",
            "Loss(0.002197176218032837) Weight(-0.9871878027915955)\n",
            "Loss(0.001477376208640635) Weight(-0.9894940257072449)\n",
            "Loss(0.000993383233435452) Weight(-0.9913851022720337)\n",
            "Loss(0.000667941989377141) Weight(-0.9929357767105103)\n",
            "Loss(0.0004491241998039186) Weight(-0.9942073225975037)\n",
            "Loss(0.00030199807952158153) Weight(-0.9952499866485596)\n",
            "Loss(0.00020306363876443356) Weight(-0.9961050152778625)\n",
            "Loss(0.00013653676433023065) Weight(-0.9968060851097107)\n",
            "Loss(9.18109726626426e-05) Weight(-0.9973809719085693)\n",
            "Loss(6.173377187224105e-05) Weight(-0.9978523850440979)\n",
            "Loss(4.150948370806873e-05) Weight(-0.9982389807701111)\n",
            "Loss(2.7911328288610093e-05) Weight(-0.9985559582710266)\n",
            "Loss(1.8766791981761344e-05) Weight(-0.9988158941268921)\n",
            "Loss(1.2619807421287987e-05) Weight(-0.9990290403366089)\n",
            "Loss(8.485558282700367e-06) Weight(-0.9992038011550903)\n",
            "Loss(5.704824161512079e-06) Weight(-0.9993470907211304)\n",
            "Loss(3.837081749225035e-06) Weight(-0.9994646310806274)\n"
          ]
        }
      ],
      "source": [
        "for __ in range(40):\n",
        "  with tf.GradientTape() as tape:\n",
        "    tape.watch(w)\n",
        "    loss = (o-(i*w))**2\n",
        "  grad = tape.gradient(loss,w)\n",
        "  w+=grad * -0.01\n",
        "  print(\"Loss({}) Weight({})\".format(loss.numpy() ,w.numpy()))"
      ]
    },
    {
      "cell_type": "code",
      "execution_count": null,
      "metadata": {
        "id": "j0RnKVH__lm9"
      },
      "outputs": [],
      "source": []
    },
    {
      "cell_type": "code",
      "execution_count": null,
      "metadata": {
        "id": "S2KqsV6z_L98"
      },
      "outputs": [],
      "source": []
    }
  ],
  "metadata": {
    "colab": {
      "name": "handson2.ipynb",
      "provenance": []
    },
    "kernelspec": {
      "display_name": "Python 3",
      "name": "python3"
    },
    "language_info": {
      "name": "python",
      "version": "3.8.8"
    }
  },
  "nbformat": 4,
  "nbformat_minor": 0
}
