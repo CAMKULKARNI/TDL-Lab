{
 "cells": [
  {
   "cell_type": "code",
   "execution_count": 17,
   "metadata": {},
   "outputs": [],
   "source": [
    "import numpy as np\n",
    "from matplotlib import pyplot as plt"
   ]
  },
  {
   "cell_type": "code",
   "execution_count": 18,
   "metadata": {},
   "outputs": [],
   "source": [
    "# Sigmoid Function\n",
    "def sigmoid(z):\n",
    "\treturn 1 / (1 + np.exp(-z))"
   ]
  },
  {
   "cell_type": "code",
   "execution_count": 19,
   "metadata": {},
   "outputs": [],
   "source": [
    "# Initialization of the neural network parameters\n",
    "# Initialized all the weights in the range of between 0 and 1\n",
    "# Bias values are initialized to 0\n",
    "def initializeParameters(inputFeatures, neuronsInHiddenLayers, outputFeatures):\n",
    "\tW1 = np.random.randn(neuronsInHiddenLayers, inputFeatures)\n",
    "\tW2 = np.random.randn(outputFeatures, neuronsInHiddenLayers)\n",
    "\tb1 = np.zeros((neuronsInHiddenLayers, 1))\n",
    "\tb2 = np.zeros((outputFeatures, 1))\n",
    "\t\n",
    "\tparameters = {\"W1\" : W1, \"b1\": b1,\n",
    "\t\t\t\t\"W2\" : W2, \"b2\": b2}\n",
    "\treturn parameters"
   ]
  },
  {
   "cell_type": "code",
   "execution_count": 20,
   "metadata": {},
   "outputs": [],
   "source": [
    "# Forward Propagation\n",
    "def forwardPropagation(X, Y, parameters):\n",
    "\tm = X.shape[1]\n",
    "\tW1 = parameters[\"W1\"]\n",
    "\tW2 = parameters[\"W2\"]\n",
    "\tb1 = parameters[\"b1\"]\n",
    "\tb2 = parameters[\"b2\"]\n",
    "\n",
    "\tZ1 = np.dot(W1, X) + b1\n",
    "\tA1 = sigmoid(Z1)\n",
    "\tZ2 = np.dot(W2, A1) + b2\n",
    "\tA2 = sigmoid(Z2)\n",
    "\n",
    "\tcache = (Z1, A1, W1, b1, Z2, A2, W2, b2)\n",
    "\tlogprobs = np.multiply(np.log(A2), Y) + np.multiply(np.log(1 - A2), (1 - Y))\n",
    "\tcost = -np.sum(logprobs) / m\n",
    "\treturn cost, cache, A2\n"
   ]
  },
  {
   "cell_type": "code",
   "execution_count": 21,
   "metadata": {},
   "outputs": [],
   "source": [
    "# Backward Propagation\n",
    "def backwardPropagation(X, Y, cache):\n",
    "\tm = X.shape[1]\n",
    "\t(Z1, A1, W1, b1, Z2, A2, W2, b2) = cache\n",
    "\t\n",
    "\tdZ2 = A2 - Y\n",
    "\tdW2 = np.dot(dZ2, A1.T) / m\n",
    "\tdb2 = np.sum(dZ2, axis = 1, keepdims = True)\n",
    "\t\n",
    "\tdA1 = np.dot(W2.T, dZ2)\n",
    "\tdZ1 = np.multiply(dA1, A1 * (1- A1))\n",
    "\tdW1 = np.dot(dZ1, X.T) / m\n",
    "\tdb1 = np.sum(dZ1, axis = 1, keepdims = True) / m\n",
    "\t\n",
    "\tgradients = {\"dZ2\": dZ2, \"dW2\": dW2, \"db2\": db2,\n",
    "\t\t\t\t\"dZ1\": dZ1, \"dW1\": dW1, \"db1\": db1}\n",
    "\treturn gradients"
   ]
  },
  {
   "cell_type": "code",
   "execution_count": 22,
   "metadata": {},
   "outputs": [],
   "source": [
    "# Updating the weights based on the negative gradients\n",
    "def updateParameters(parameters, gradients, learningRate):\n",
    "\tparameters[\"W1\"] = parameters[\"W1\"] - learningRate * gradients[\"dW1\"]\n",
    "\tparameters[\"W2\"] = parameters[\"W2\"] - learningRate * gradients[\"dW2\"]\n",
    "\tparameters[\"b1\"] = parameters[\"b1\"] - learningRate * gradients[\"db1\"]\n",
    "\tparameters[\"b2\"] = parameters[\"b2\"] - learningRate * gradients[\"db2\"]\n",
    "\treturn parameters"
   ]
  },
  {
   "cell_type": "code",
   "execution_count": 23,
   "metadata": {},
   "outputs": [],
   "source": [
    "# Model to learn the XOR truth table\n",
    "X = np.array([[0, 0, 1, 1], [0, 1, 0, 1]]) # XOR input\n",
    "Y = np.array([[0, 1, 1, 0]]) # XOR output\n",
    "\n",
    "# Define model parameters\n",
    "neuronsInHiddenLayers = 2 # number of hidden layer neurons (2)\n",
    "inputFeatures = X.shape[0] # number of input features (2)\n",
    "outputFeatures = Y.shape[0] # number of output features (1)\n",
    "parameters = initializeParameters(inputFeatures, neuronsInHiddenLayers, outputFeatures)\n",
    "epoch = 100000\n",
    "learningRate = 0.01\n",
    "losses = np.zeros((epoch, 1))\n",
    "\n",
    "for i in range(epoch):\n",
    "\tlosses[i, 0], cache, A2 = forwardPropagation(X, Y, parameters)\n",
    "\tgradients = backwardPropagation(X, Y, cache)\n",
    "\tparameters = updateParameters(parameters, gradients, learningRate)"
   ]
  },
  {
   "cell_type": "code",
   "execution_count": 24,
   "metadata": {},
   "outputs": [
    {
     "data": {
      "image/png": "[encoded data removed]",
      "text/plain": [
       "<Figure size 432x288 with 1 Axes>"
      ]
     },
     "metadata": {
      "needs_background": "light"
     },
     "output_type": "display_data"
    },
    {
     "name": "stdout",
     "output_type": "stream",
     "text": [
      "[[1. 0. 0. 1.]]\n"
     ]
    }
   ],
   "source": [
    "# Evaluating the performance\n",
    "plt.figure()\n",
    "plt.plot(losses)\n",
    "plt.xlabel(\"EPOCHS\")\n",
    "plt.ylabel(\"Loss value\")\n",
    "plt.show()\n",
    "\n",
    "# Testing\n",
    "X = np.array([[1, 1, 0, 0], [0, 1, 0, 1]]) # XOR input\n",
    "cost, _, A2 = forwardPropagation(X, Y, parameters)\n",
    "prediction = (A2 > 0.5) * 1.0\n",
    "# print(A2)\n",
    "print(prediction)"
   ]
  }
 ],
 "metadata": {
  "interpreter": {
   "hash": "cef9e06bb236b2a8629b07e87a04b187b952a0f661eff5533360a155783f0c33"
  },
  "kernelspec": {
   "display_name": "Python 3.8.8 ('base')",
   "language": "python",
   "name": "python3"
  },
  "language_info": {
   "codemirror_mode": {
    "name": "ipython",
    "version": 3
   },
   "file_extension": ".py",
   "mimetype": "text/x-python",
   "name": "python",
   "nbconvert_exporter": "python",
   "pygments_lexer": "ipython3",
   "version": "3.8.8"
  },
  "orig_nbformat": 4
 },
 "nbformat": 4,
 "nbformat_minor": 2
}
